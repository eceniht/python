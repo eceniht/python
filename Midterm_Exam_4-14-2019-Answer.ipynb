{
 "cells": [
  {
   "cell_type": "markdown",
   "metadata": {},
   "source": [
    "# <Center>數據分析期中考解答</Center>"
   ]
  },
  {
   "cell_type": "markdown",
   "metadata": {},
   "source": [
    "### 資料檔案為某電子商務網站的交易數據, 檔案名稱為Transcations.csv\n",
    "### 欄位的意義為:\n",
    "- ### order_id：訂單號碼\n",
    "- ### buyer_mobile：消費者的手機加密後的數字\n",
    "- ### product_parent_id：該訂單購買的商品組合\n",
    "- ### product_id：該訂單購買的商品組合的內容\n",
    "- ### menu_id：該product_parent_id所屬的分類\n",
    "- ### menu_name：分類名稱\n",
    "- ### total：商品售價\n",
    "- ### crdate：訂單日期"
   ]
  },
  {
   "cell_type": "code",
   "execution_count": 1,
   "metadata": {},
   "outputs": [
    {
     "name": "stdout",
     "output_type": "stream",
     "text": [
      "20190429-15-49\n"
     ]
    }
   ],
   "source": [
    "import pandas as pd\n",
    "import numpy as np\n",
    "import matplotlib.pyplot as plt\n",
    "import os, sys, psutil, gc\n",
    "from datetime import datetime, timedelta\n",
    "timeStamp = datetime.now().strftime('%Y%m%d-%H-%M')\n",
    "print (timeStamp)\n",
    "%matplotlib inline"
   ]
  },
  {
   "cell_type": "code",
   "execution_count": 2,
   "metadata": {},
   "outputs": [],
   "source": [
    "def side_by_side(*objs, **kwds):\n",
    "    from pandas.io.formats.printing import adjoin\n",
    "    space = kwds.get('space', 4)\n",
    "    reprs = [repr(obj).split('\\n') for obj in objs]\n",
    "    print (adjoin(space, *reprs))\n",
    "    print()\n",
    "    return"
   ]
  },
  {
   "cell_type": "markdown",
   "metadata": {
    "collapsed": true
   },
   "source": [
    "### 設定最後交易日為2016-12-31"
   ]
  },
  {
   "cell_type": "code",
   "execution_count": 3,
   "metadata": {},
   "outputs": [
    {
     "name": "stdout",
     "output_type": "stream",
     "text": [
      "2016-12-31 00:00:00\n"
     ]
    }
   ],
   "source": [
    "TransactionEndingDate = datetime.strptime('2016-12-31', '%Y-%m-%d')\n",
    "print(TransactionEndingDate)"
   ]
  },
  {
   "cell_type": "markdown",
   "metadata": {},
   "source": [
    "### Q1: 將交易數據檔案Transactions.csv讀進TransactionDataDF中"
   ]
  },
  {
   "cell_type": "code",
   "execution_count": 4,
   "metadata": {},
   "outputs": [],
   "source": [
    "TransactionDataDF = pd.read_csv('./Transactions.csv', encoding = 'UTF-8')"
   ]
  },
  {
   "cell_type": "markdown",
   "metadata": {},
   "source": [
    "### Q2: 顯示TransactionDataDF的前後各15筆資料"
   ]
  },
  {
   "cell_type": "code",
   "execution_count": 5,
   "metadata": {},
   "outputs": [
    {
     "data": {
      "text/html": [
       "<div>\n",
       "<style scoped>\n",
       "    .dataframe tbody tr th:only-of-type {\n",
       "        vertical-align: middle;\n",
       "    }\n",
       "\n",
       "    .dataframe tbody tr th {\n",
       "        vertical-align: top;\n",
       "    }\n",
       "\n",
       "    .dataframe thead th {\n",
       "        text-align: right;\n",
       "    }\n",
       "</style>\n",
       "<table border=\"1\" class=\"dataframe\">\n",
       "  <thead>\n",
       "    <tr style=\"text-align: right;\">\n",
       "      <th></th>\n",
       "      <th>order_id</th>\n",
       "      <th>buyer_mobile</th>\n",
       "      <th>product_parent_id</th>\n",
       "      <th>product_id</th>\n",
       "      <th>menu_id</th>\n",
       "      <th>menu_name</th>\n",
       "      <th>total</th>\n",
       "      <th>crdate</th>\n",
       "    </tr>\n",
       "  </thead>\n",
       "  <tbody>\n",
       "    <tr>\n",
       "      <th>0</th>\n",
       "      <td>2669085</td>\n",
       "      <td>eyJhbGciOiJIUzUxMiIsInR5cCI6IkpXVCJ9.eyJvY2Vyc...</td>\n",
       "      <td>26908</td>\n",
       "      <td>26909</td>\n",
       "      <td>530</td>\n",
       "      <td>口腔清潔</td>\n",
       "      <td>880</td>\n",
       "      <td>2016-10-07 06:53:45.945162</td>\n",
       "    </tr>\n",
       "    <tr>\n",
       "      <th>1</th>\n",
       "      <td>2669085</td>\n",
       "      <td>eyJhbGciOiJIUzUxMiIsInR5cCI6IkpXVCJ9.eyJvY2Vyc...</td>\n",
       "      <td>26908</td>\n",
       "      <td>26909</td>\n",
       "      <td>528</td>\n",
       "      <td>清潔保健</td>\n",
       "      <td>880</td>\n",
       "      <td>2016-10-07 06:53:45.945162</td>\n",
       "    </tr>\n",
       "    <tr>\n",
       "      <th>2</th>\n",
       "      <td>2669085</td>\n",
       "      <td>eyJhbGciOiJIUzUxMiIsInR5cCI6IkpXVCJ9.eyJvY2Vyc...</td>\n",
       "      <td>26908</td>\n",
       "      <td>26909</td>\n",
       "      <td>224</td>\n",
       "      <td>寵愛毛孩子</td>\n",
       "      <td>880</td>\n",
       "      <td>2016-10-07 06:53:45.945162</td>\n",
       "    </tr>\n",
       "    <tr>\n",
       "      <th>3</th>\n",
       "      <td>2669085</td>\n",
       "      <td>eyJhbGciOiJIUzUxMiIsInR5cCI6IkpXVCJ9.eyJvY2Vyc...</td>\n",
       "      <td>26908</td>\n",
       "      <td>26909</td>\n",
       "      <td>57</td>\n",
       "      <td>樂生活愛居家</td>\n",
       "      <td>880</td>\n",
       "      <td>2016-10-07 06:53:45.945162</td>\n",
       "    </tr>\n",
       "    <tr>\n",
       "      <th>4</th>\n",
       "      <td>2669085</td>\n",
       "      <td>eyJhbGciOiJIUzUxMiIsInR5cCI6IkpXVCJ9.eyJvY2Vyc...</td>\n",
       "      <td>26908</td>\n",
       "      <td>26909</td>\n",
       "      <td>580</td>\n",
       "      <td>生活智慧王!</td>\n",
       "      <td>880</td>\n",
       "      <td>2016-10-07 06:53:45.945162</td>\n",
       "    </tr>\n",
       "    <tr>\n",
       "      <th>5</th>\n",
       "      <td>2669085</td>\n",
       "      <td>eyJhbGciOiJIUzUxMiIsInR5cCI6IkpXVCJ9.eyJvY2Vyc...</td>\n",
       "      <td>26908</td>\n",
       "      <td>26909</td>\n",
       "      <td>554</td>\n",
       "      <td>下殺一折起</td>\n",
       "      <td>880</td>\n",
       "      <td>2016-10-07 06:53:45.945162</td>\n",
       "    </tr>\n",
       "    <tr>\n",
       "      <th>6</th>\n",
       "      <td>2669102</td>\n",
       "      <td>eyJhbGciOiJIUzUxMiIsInR5cCI6IkpXVCJ9.eyJvY2Vyc...</td>\n",
       "      <td>34434</td>\n",
       "      <td>34435</td>\n",
       "      <td>530</td>\n",
       "      <td>口腔清潔</td>\n",
       "      <td>999</td>\n",
       "      <td>2016-10-07 07:07:40.814496</td>\n",
       "    </tr>\n",
       "    <tr>\n",
       "      <th>7</th>\n",
       "      <td>2669102</td>\n",
       "      <td>eyJhbGciOiJIUzUxMiIsInR5cCI6IkpXVCJ9.eyJvY2Vyc...</td>\n",
       "      <td>34434</td>\n",
       "      <td>34435</td>\n",
       "      <td>528</td>\n",
       "      <td>清潔保健</td>\n",
       "      <td>999</td>\n",
       "      <td>2016-10-07 07:07:40.814496</td>\n",
       "    </tr>\n",
       "    <tr>\n",
       "      <th>8</th>\n",
       "      <td>2669110</td>\n",
       "      <td>eyJhbGciOiJIUzUxMiIsInR5cCI6IkpXVCJ9.eyJvY2Vyc...</td>\n",
       "      <td>29109</td>\n",
       "      <td>29111</td>\n",
       "      <td>559</td>\n",
       "      <td>纖體小物</td>\n",
       "      <td>1080</td>\n",
       "      <td>2016-10-07 07:07:58.189516</td>\n",
       "    </tr>\n",
       "    <tr>\n",
       "      <th>9</th>\n",
       "      <td>2669110</td>\n",
       "      <td>eyJhbGciOiJIUzUxMiIsInR5cCI6IkpXVCJ9.eyJvY2Vyc...</td>\n",
       "      <td>29109</td>\n",
       "      <td>29111</td>\n",
       "      <td>550</td>\n",
       "      <td>愛美小物</td>\n",
       "      <td>1080</td>\n",
       "      <td>2016-10-07 07:07:58.189516</td>\n",
       "    </tr>\n",
       "    <tr>\n",
       "      <th>10</th>\n",
       "      <td>2669104</td>\n",
       "      <td>eyJhbGciOiJIUzUxMiIsInR5cCI6IkpXVCJ9.eyJvY2Vyc...</td>\n",
       "      <td>34434</td>\n",
       "      <td>34773</td>\n",
       "      <td>530</td>\n",
       "      <td>口腔清潔</td>\n",
       "      <td>599</td>\n",
       "      <td>2016-10-07 07:07:46.920565</td>\n",
       "    </tr>\n",
       "    <tr>\n",
       "      <th>11</th>\n",
       "      <td>2669104</td>\n",
       "      <td>eyJhbGciOiJIUzUxMiIsInR5cCI6IkpXVCJ9.eyJvY2Vyc...</td>\n",
       "      <td>34434</td>\n",
       "      <td>34773</td>\n",
       "      <td>528</td>\n",
       "      <td>清潔保健</td>\n",
       "      <td>599</td>\n",
       "      <td>2016-10-07 07:07:46.920565</td>\n",
       "    </tr>\n",
       "    <tr>\n",
       "      <th>12</th>\n",
       "      <td>2669050</td>\n",
       "      <td>eyJhbGciOiJIUzUxMiIsInR5cCI6IkpXVCJ9.eyJvY2Vyc...</td>\n",
       "      <td>34230</td>\n",
       "      <td>34232</td>\n",
       "      <td>624</td>\n",
       "      <td>柔順護髮</td>\n",
       "      <td>999</td>\n",
       "      <td>2016-10-07 06:40:22.127489</td>\n",
       "    </tr>\n",
       "    <tr>\n",
       "      <th>13</th>\n",
       "      <td>2669050</td>\n",
       "      <td>eyJhbGciOiJIUzUxMiIsInR5cCI6IkpXVCJ9.eyJvY2Vyc...</td>\n",
       "      <td>34230</td>\n",
       "      <td>34232</td>\n",
       "      <td>537</td>\n",
       "      <td>時尚髮品保養</td>\n",
       "      <td>999</td>\n",
       "      <td>2016-10-07 06:40:22.127489</td>\n",
       "    </tr>\n",
       "    <tr>\n",
       "      <th>14</th>\n",
       "      <td>2669103</td>\n",
       "      <td>eyJhbGciOiJIUzUxMiIsInR5cCI6IkpXVCJ9.eyJvY2Vyc...</td>\n",
       "      <td>30879</td>\n",
       "      <td>30882</td>\n",
       "      <td>158</td>\n",
       "      <td>美體對策食品</td>\n",
       "      <td>1800</td>\n",
       "      <td>2016-10-07 07:07:42.592418</td>\n",
       "    </tr>\n",
       "  </tbody>\n",
       "</table>\n",
       "</div>"
      ],
      "text/plain": [
       "    order_id                                       buyer_mobile  \\\n",
       "0    2669085  eyJhbGciOiJIUzUxMiIsInR5cCI6IkpXVCJ9.eyJvY2Vyc...   \n",
       "1    2669085  eyJhbGciOiJIUzUxMiIsInR5cCI6IkpXVCJ9.eyJvY2Vyc...   \n",
       "2    2669085  eyJhbGciOiJIUzUxMiIsInR5cCI6IkpXVCJ9.eyJvY2Vyc...   \n",
       "3    2669085  eyJhbGciOiJIUzUxMiIsInR5cCI6IkpXVCJ9.eyJvY2Vyc...   \n",
       "4    2669085  eyJhbGciOiJIUzUxMiIsInR5cCI6IkpXVCJ9.eyJvY2Vyc...   \n",
       "5    2669085  eyJhbGciOiJIUzUxMiIsInR5cCI6IkpXVCJ9.eyJvY2Vyc...   \n",
       "6    2669102  eyJhbGciOiJIUzUxMiIsInR5cCI6IkpXVCJ9.eyJvY2Vyc...   \n",
       "7    2669102  eyJhbGciOiJIUzUxMiIsInR5cCI6IkpXVCJ9.eyJvY2Vyc...   \n",
       "8    2669110  eyJhbGciOiJIUzUxMiIsInR5cCI6IkpXVCJ9.eyJvY2Vyc...   \n",
       "9    2669110  eyJhbGciOiJIUzUxMiIsInR5cCI6IkpXVCJ9.eyJvY2Vyc...   \n",
       "10   2669104  eyJhbGciOiJIUzUxMiIsInR5cCI6IkpXVCJ9.eyJvY2Vyc...   \n",
       "11   2669104  eyJhbGciOiJIUzUxMiIsInR5cCI6IkpXVCJ9.eyJvY2Vyc...   \n",
       "12   2669050  eyJhbGciOiJIUzUxMiIsInR5cCI6IkpXVCJ9.eyJvY2Vyc...   \n",
       "13   2669050  eyJhbGciOiJIUzUxMiIsInR5cCI6IkpXVCJ9.eyJvY2Vyc...   \n",
       "14   2669103  eyJhbGciOiJIUzUxMiIsInR5cCI6IkpXVCJ9.eyJvY2Vyc...   \n",
       "\n",
       "    product_parent_id  product_id  menu_id menu_name  total  \\\n",
       "0               26908       26909      530      口腔清潔    880   \n",
       "1               26908       26909      528      清潔保健    880   \n",
       "2               26908       26909      224     寵愛毛孩子    880   \n",
       "3               26908       26909       57    樂生活愛居家    880   \n",
       "4               26908       26909      580    生活智慧王!    880   \n",
       "5               26908       26909      554     下殺一折起    880   \n",
       "6               34434       34435      530      口腔清潔    999   \n",
       "7               34434       34435      528      清潔保健    999   \n",
       "8               29109       29111      559      纖體小物   1080   \n",
       "9               29109       29111      550      愛美小物   1080   \n",
       "10              34434       34773      530      口腔清潔    599   \n",
       "11              34434       34773      528      清潔保健    599   \n",
       "12              34230       34232      624      柔順護髮    999   \n",
       "13              34230       34232      537    時尚髮品保養    999   \n",
       "14              30879       30882      158    美體對策食品   1800   \n",
       "\n",
       "                        crdate  \n",
       "0   2016-10-07 06:53:45.945162  \n",
       "1   2016-10-07 06:53:45.945162  \n",
       "2   2016-10-07 06:53:45.945162  \n",
       "3   2016-10-07 06:53:45.945162  \n",
       "4   2016-10-07 06:53:45.945162  \n",
       "5   2016-10-07 06:53:45.945162  \n",
       "6   2016-10-07 07:07:40.814496  \n",
       "7   2016-10-07 07:07:40.814496  \n",
       "8   2016-10-07 07:07:58.189516  \n",
       "9   2016-10-07 07:07:58.189516  \n",
       "10  2016-10-07 07:07:46.920565  \n",
       "11  2016-10-07 07:07:46.920565  \n",
       "12  2016-10-07 06:40:22.127489  \n",
       "13  2016-10-07 06:40:22.127489  \n",
       "14  2016-10-07 07:07:42.592418  "
      ]
     },
     "execution_count": 5,
     "metadata": {},
     "output_type": "execute_result"
    }
   ],
   "source": [
    "TransactionDataDF.head(15)"
   ]
  },
  {
   "cell_type": "code",
   "execution_count": 6,
   "metadata": {},
   "outputs": [
    {
     "data": {
      "text/html": [
       "<div>\n",
       "<style scoped>\n",
       "    .dataframe tbody tr th:only-of-type {\n",
       "        vertical-align: middle;\n",
       "    }\n",
       "\n",
       "    .dataframe tbody tr th {\n",
       "        vertical-align: top;\n",
       "    }\n",
       "\n",
       "    .dataframe thead th {\n",
       "        text-align: right;\n",
       "    }\n",
       "</style>\n",
       "<table border=\"1\" class=\"dataframe\">\n",
       "  <thead>\n",
       "    <tr style=\"text-align: right;\">\n",
       "      <th></th>\n",
       "      <th>order_id</th>\n",
       "      <th>buyer_mobile</th>\n",
       "      <th>product_parent_id</th>\n",
       "      <th>product_id</th>\n",
       "      <th>menu_id</th>\n",
       "      <th>menu_name</th>\n",
       "      <th>total</th>\n",
       "      <th>crdate</th>\n",
       "    </tr>\n",
       "  </thead>\n",
       "  <tbody>\n",
       "    <tr>\n",
       "      <th>521275</th>\n",
       "      <td>3007582</td>\n",
       "      <td>eyJhbGciOiJIUzUxMiIsInR5cCI6IkpXVCJ9.eyJvY2Vyc...</td>\n",
       "      <td>36761</td>\n",
       "      <td>36762</td>\n",
       "      <td>521</td>\n",
       "      <td>居家/休閒用品</td>\n",
       "      <td>990</td>\n",
       "      <td>2016-12-31 16:16:24.552128</td>\n",
       "    </tr>\n",
       "    <tr>\n",
       "      <th>521276</th>\n",
       "      <td>3007582</td>\n",
       "      <td>eyJhbGciOiJIUzUxMiIsInR5cCI6IkpXVCJ9.eyJvY2Vyc...</td>\n",
       "      <td>36761</td>\n",
       "      <td>36762</td>\n",
       "      <td>84</td>\n",
       "      <td>閃亮亮清潔用品</td>\n",
       "      <td>990</td>\n",
       "      <td>2016-12-31 16:16:24.552128</td>\n",
       "    </tr>\n",
       "    <tr>\n",
       "      <th>521277</th>\n",
       "      <td>3007582</td>\n",
       "      <td>eyJhbGciOiJIUzUxMiIsInR5cCI6IkpXVCJ9.eyJvY2Vyc...</td>\n",
       "      <td>36761</td>\n",
       "      <td>36762</td>\n",
       "      <td>57</td>\n",
       "      <td>樂生活愛居家</td>\n",
       "      <td>990</td>\n",
       "      <td>2016-12-31 16:16:24.552128</td>\n",
       "    </tr>\n",
       "    <tr>\n",
       "      <th>521278</th>\n",
       "      <td>3008089</td>\n",
       "      <td>eyJhbGciOiJIUzUxMiIsInR5cCI6IkpXVCJ9.eyJvY2Vyc...</td>\n",
       "      <td>36761</td>\n",
       "      <td>36762</td>\n",
       "      <td>521</td>\n",
       "      <td>居家/休閒用品</td>\n",
       "      <td>990</td>\n",
       "      <td>2016-12-31 18:35:29.046024</td>\n",
       "    </tr>\n",
       "    <tr>\n",
       "      <th>521279</th>\n",
       "      <td>3008089</td>\n",
       "      <td>eyJhbGciOiJIUzUxMiIsInR5cCI6IkpXVCJ9.eyJvY2Vyc...</td>\n",
       "      <td>36761</td>\n",
       "      <td>36762</td>\n",
       "      <td>84</td>\n",
       "      <td>閃亮亮清潔用品</td>\n",
       "      <td>990</td>\n",
       "      <td>2016-12-31 18:35:29.046024</td>\n",
       "    </tr>\n",
       "    <tr>\n",
       "      <th>521280</th>\n",
       "      <td>3008089</td>\n",
       "      <td>eyJhbGciOiJIUzUxMiIsInR5cCI6IkpXVCJ9.eyJvY2Vyc...</td>\n",
       "      <td>36761</td>\n",
       "      <td>36762</td>\n",
       "      <td>57</td>\n",
       "      <td>樂生活愛居家</td>\n",
       "      <td>990</td>\n",
       "      <td>2016-12-31 18:35:29.046024</td>\n",
       "    </tr>\n",
       "    <tr>\n",
       "      <th>521281</th>\n",
       "      <td>3008095</td>\n",
       "      <td>eyJhbGciOiJIUzUxMiIsInR5cCI6IkpXVCJ9.eyJvY2Vyc...</td>\n",
       "      <td>36761</td>\n",
       "      <td>36762</td>\n",
       "      <td>521</td>\n",
       "      <td>居家/休閒用品</td>\n",
       "      <td>990</td>\n",
       "      <td>2016-12-31 18:36:50.184493</td>\n",
       "    </tr>\n",
       "    <tr>\n",
       "      <th>521282</th>\n",
       "      <td>3008095</td>\n",
       "      <td>eyJhbGciOiJIUzUxMiIsInR5cCI6IkpXVCJ9.eyJvY2Vyc...</td>\n",
       "      <td>36761</td>\n",
       "      <td>36762</td>\n",
       "      <td>84</td>\n",
       "      <td>閃亮亮清潔用品</td>\n",
       "      <td>990</td>\n",
       "      <td>2016-12-31 18:36:50.184493</td>\n",
       "    </tr>\n",
       "    <tr>\n",
       "      <th>521283</th>\n",
       "      <td>3008095</td>\n",
       "      <td>eyJhbGciOiJIUzUxMiIsInR5cCI6IkpXVCJ9.eyJvY2Vyc...</td>\n",
       "      <td>36761</td>\n",
       "      <td>36762</td>\n",
       "      <td>57</td>\n",
       "      <td>樂生活愛居家</td>\n",
       "      <td>990</td>\n",
       "      <td>2016-12-31 18:36:50.184493</td>\n",
       "    </tr>\n",
       "    <tr>\n",
       "      <th>521284</th>\n",
       "      <td>3007875</td>\n",
       "      <td>eyJhbGciOiJIUzUxMiIsInR5cCI6IkpXVCJ9.eyJvY2Vyc...</td>\n",
       "      <td>36761</td>\n",
       "      <td>36762</td>\n",
       "      <td>521</td>\n",
       "      <td>居家/休閒用品</td>\n",
       "      <td>990</td>\n",
       "      <td>2016-12-31 17:30:35.248815</td>\n",
       "    </tr>\n",
       "    <tr>\n",
       "      <th>521285</th>\n",
       "      <td>3007875</td>\n",
       "      <td>eyJhbGciOiJIUzUxMiIsInR5cCI6IkpXVCJ9.eyJvY2Vyc...</td>\n",
       "      <td>36761</td>\n",
       "      <td>36762</td>\n",
       "      <td>84</td>\n",
       "      <td>閃亮亮清潔用品</td>\n",
       "      <td>990</td>\n",
       "      <td>2016-12-31 17:30:35.248815</td>\n",
       "    </tr>\n",
       "    <tr>\n",
       "      <th>521286</th>\n",
       "      <td>3007875</td>\n",
       "      <td>eyJhbGciOiJIUzUxMiIsInR5cCI6IkpXVCJ9.eyJvY2Vyc...</td>\n",
       "      <td>36761</td>\n",
       "      <td>36762</td>\n",
       "      <td>57</td>\n",
       "      <td>樂生活愛居家</td>\n",
       "      <td>990</td>\n",
       "      <td>2016-12-31 17:30:35.248815</td>\n",
       "    </tr>\n",
       "    <tr>\n",
       "      <th>521287</th>\n",
       "      <td>3008922</td>\n",
       "      <td>eyJhbGciOiJIUzUxMiIsInR5cCI6IkpXVCJ9.eyJvY2Vyc...</td>\n",
       "      <td>25216</td>\n",
       "      <td>25217</td>\n",
       "      <td>624</td>\n",
       "      <td>柔順護髮</td>\n",
       "      <td>899</td>\n",
       "      <td>2016-12-31 23:50:55.523977</td>\n",
       "    </tr>\n",
       "    <tr>\n",
       "      <th>521288</th>\n",
       "      <td>3008922</td>\n",
       "      <td>eyJhbGciOiJIUzUxMiIsInR5cCI6IkpXVCJ9.eyJvY2Vyc...</td>\n",
       "      <td>25216</td>\n",
       "      <td>25217</td>\n",
       "      <td>538</td>\n",
       "      <td>飄逸洗髮</td>\n",
       "      <td>899</td>\n",
       "      <td>2016-12-31 23:50:55.523977</td>\n",
       "    </tr>\n",
       "    <tr>\n",
       "      <th>521289</th>\n",
       "      <td>3008922</td>\n",
       "      <td>eyJhbGciOiJIUzUxMiIsInR5cCI6IkpXVCJ9.eyJvY2Vyc...</td>\n",
       "      <td>25216</td>\n",
       "      <td>25217</td>\n",
       "      <td>537</td>\n",
       "      <td>時尚髮品保養</td>\n",
       "      <td>899</td>\n",
       "      <td>2016-12-31 23:50:55.523977</td>\n",
       "    </tr>\n",
       "  </tbody>\n",
       "</table>\n",
       "</div>"
      ],
      "text/plain": [
       "        order_id                                       buyer_mobile  \\\n",
       "521275   3007582  eyJhbGciOiJIUzUxMiIsInR5cCI6IkpXVCJ9.eyJvY2Vyc...   \n",
       "521276   3007582  eyJhbGciOiJIUzUxMiIsInR5cCI6IkpXVCJ9.eyJvY2Vyc...   \n",
       "521277   3007582  eyJhbGciOiJIUzUxMiIsInR5cCI6IkpXVCJ9.eyJvY2Vyc...   \n",
       "521278   3008089  eyJhbGciOiJIUzUxMiIsInR5cCI6IkpXVCJ9.eyJvY2Vyc...   \n",
       "521279   3008089  eyJhbGciOiJIUzUxMiIsInR5cCI6IkpXVCJ9.eyJvY2Vyc...   \n",
       "521280   3008089  eyJhbGciOiJIUzUxMiIsInR5cCI6IkpXVCJ9.eyJvY2Vyc...   \n",
       "521281   3008095  eyJhbGciOiJIUzUxMiIsInR5cCI6IkpXVCJ9.eyJvY2Vyc...   \n",
       "521282   3008095  eyJhbGciOiJIUzUxMiIsInR5cCI6IkpXVCJ9.eyJvY2Vyc...   \n",
       "521283   3008095  eyJhbGciOiJIUzUxMiIsInR5cCI6IkpXVCJ9.eyJvY2Vyc...   \n",
       "521284   3007875  eyJhbGciOiJIUzUxMiIsInR5cCI6IkpXVCJ9.eyJvY2Vyc...   \n",
       "521285   3007875  eyJhbGciOiJIUzUxMiIsInR5cCI6IkpXVCJ9.eyJvY2Vyc...   \n",
       "521286   3007875  eyJhbGciOiJIUzUxMiIsInR5cCI6IkpXVCJ9.eyJvY2Vyc...   \n",
       "521287   3008922  eyJhbGciOiJIUzUxMiIsInR5cCI6IkpXVCJ9.eyJvY2Vyc...   \n",
       "521288   3008922  eyJhbGciOiJIUzUxMiIsInR5cCI6IkpXVCJ9.eyJvY2Vyc...   \n",
       "521289   3008922  eyJhbGciOiJIUzUxMiIsInR5cCI6IkpXVCJ9.eyJvY2Vyc...   \n",
       "\n",
       "        product_parent_id  product_id  menu_id menu_name  total  \\\n",
       "521275              36761       36762      521   居家/休閒用品    990   \n",
       "521276              36761       36762       84   閃亮亮清潔用品    990   \n",
       "521277              36761       36762       57    樂生活愛居家    990   \n",
       "521278              36761       36762      521   居家/休閒用品    990   \n",
       "521279              36761       36762       84   閃亮亮清潔用品    990   \n",
       "521280              36761       36762       57    樂生活愛居家    990   \n",
       "521281              36761       36762      521   居家/休閒用品    990   \n",
       "521282              36761       36762       84   閃亮亮清潔用品    990   \n",
       "521283              36761       36762       57    樂生活愛居家    990   \n",
       "521284              36761       36762      521   居家/休閒用品    990   \n",
       "521285              36761       36762       84   閃亮亮清潔用品    990   \n",
       "521286              36761       36762       57    樂生活愛居家    990   \n",
       "521287              25216       25217      624      柔順護髮    899   \n",
       "521288              25216       25217      538      飄逸洗髮    899   \n",
       "521289              25216       25217      537    時尚髮品保養    899   \n",
       "\n",
       "                            crdate  \n",
       "521275  2016-12-31 16:16:24.552128  \n",
       "521276  2016-12-31 16:16:24.552128  \n",
       "521277  2016-12-31 16:16:24.552128  \n",
       "521278  2016-12-31 18:35:29.046024  \n",
       "521279  2016-12-31 18:35:29.046024  \n",
       "521280  2016-12-31 18:35:29.046024  \n",
       "521281  2016-12-31 18:36:50.184493  \n",
       "521282  2016-12-31 18:36:50.184493  \n",
       "521283  2016-12-31 18:36:50.184493  \n",
       "521284  2016-12-31 17:30:35.248815  \n",
       "521285  2016-12-31 17:30:35.248815  \n",
       "521286  2016-12-31 17:30:35.248815  \n",
       "521287  2016-12-31 23:50:55.523977  \n",
       "521288  2016-12-31 23:50:55.523977  \n",
       "521289  2016-12-31 23:50:55.523977  "
      ]
     },
     "execution_count": 6,
     "metadata": {},
     "output_type": "execute_result"
    }
   ],
   "source": [
    "TransactionDataDF.tail(15)"
   ]
  },
  {
   "cell_type": "markdown",
   "metadata": {},
   "source": [
    "### Q3: 顯示TransactionDataDF中欄位的缺值數量"
   ]
  },
  {
   "cell_type": "code",
   "execution_count": 7,
   "metadata": {},
   "outputs": [
    {
     "name": "stdout",
     "output_type": "stream",
     "text": [
      "order_id              0    order_id             521290\n",
      "buyer_mobile         17    buyer_mobile         521273\n",
      "product_parent_id     0    product_parent_id    521290\n",
      "product_id            0    product_id           521290\n",
      "menu_id               0    menu_id              521290\n",
      "menu_name             0    menu_name            521290\n",
      "total                 0    total                521290\n",
      "crdate                0    crdate               521290\n",
      "dtype: int64               dtype: int64               \n",
      "\n"
     ]
    }
   ],
   "source": [
    "side_by_side(TransactionDataDF.isnull().sum(), TransactionDataDF.count())"
   ]
  },
  {
   "cell_type": "markdown",
   "metadata": {},
   "source": [
    "### Q4: 顯示TransactionDataDF中的不重複的消費者人數"
   ]
  },
  {
   "cell_type": "code",
   "execution_count": 8,
   "metadata": {},
   "outputs": [
    {
     "data": {
      "text/plain": [
       "131736"
      ]
     },
     "execution_count": 8,
     "metadata": {},
     "output_type": "execute_result"
    }
   ],
   "source": [
    "TransactionDataDF.buyer_mobile.nunique()"
   ]
  },
  {
   "cell_type": "markdown",
   "metadata": {},
   "source": [
    "### Q5: 將TransactionDataDF中有缺值的,以及product_id是0的記錄刪除後, 顯示\n",
    "- ### 1. Total number of unique buyer_mobile\n",
    "- ### 2. Total number of unique order_id\n",
    "- ### 3. Total number of unique product_parent_id\n",
    "- ### 4. Total number of unique product_id\n",
    "- ### 5. Total number of unique menu_id "
   ]
  },
  {
   "cell_type": "code",
   "execution_count": 9,
   "metadata": {},
   "outputs": [
    {
     "data": {
      "text/plain": [
       "order_id             166008\n",
       "buyer_mobile         131736\n",
       "product_parent_id       728\n",
       "product_id             1679\n",
       "menu_id                 143\n",
       "menu_name               141\n",
       "total                   375\n",
       "crdate               166008\n",
       "dtype: int64"
      ]
     },
     "execution_count": 9,
     "metadata": {},
     "output_type": "execute_result"
    }
   ],
   "source": [
    "TransactionDataDF.dropna(inplace=True)\n",
    "TransactionDataDF = TransactionDataDF[TransactionDataDF.product_id != 0]\n",
    "TransactionDataDF.nunique()"
   ]
  },
  {
   "cell_type": "markdown",
   "metadata": {},
   "source": [
    "### Q6: 以序號(連續數字)替換buyer_mobile的內容"
   ]
  },
  {
   "cell_type": "code",
   "execution_count": 10,
   "metadata": {},
   "outputs": [
    {
     "name": "stdout",
     "output_type": "stream",
     "text": [
      "0     106651                        521275    77547                 \n",
      "1     106651                        521276    77547                 \n",
      "2     106651                        521277    77547                 \n",
      "3     106651                        521278    73137                 \n",
      "4     106651                        521279    73137                 \n",
      "5     106651                        521280    73137                 \n",
      "6     112613                        521281    71774                 \n",
      "7     112613                        521282    71774                 \n",
      "8      68279                        521283    71774                 \n",
      "9      68279                        521284    14502                 \n",
      "10     69492                        521285    14502                 \n",
      "11     69492                        521286    14502                 \n",
      "12     11231                        521287    55985                 \n",
      "13     11231                        521288    55985                 \n",
      "14    103456                        521289    55985                 \n",
      "Name: buyer_mobile, dtype: int32    Name: buyer_mobile, dtype: int32\n",
      "\n"
     ]
    }
   ],
   "source": [
    "TransactionDataDF['buyer_mobile'] = TransactionDataDF['buyer_mobile'].astype('category')\n",
    "cat_columns = TransactionDataDF.select_dtypes(['category']).columns\n",
    "TransactionDataDF[cat_columns] = TransactionDataDF[cat_columns].apply(lambda x: x.cat.codes+1000)\n",
    "side_by_side(TransactionDataDF.buyer_mobile.head(15), TransactionDataDF.buyer_mobile.tail(15))"
   ]
  },
  {
   "cell_type": "markdown",
   "metadata": {},
   "source": [
    "### TransactionDataDF的目前欄位應為['order_id', 'buyer_mobile', 'product_parent_id', 'product_id', 'menu_id', 'menu_name', 'total', 'crdate'] dtype='object')"
   ]
  },
  {
   "cell_type": "code",
   "execution_count": 11,
   "metadata": {},
   "outputs": [
    {
     "name": "stdout",
     "output_type": "stream",
     "text": [
      "<class 'pandas.core.frame.DataFrame'>\n",
      "Int64Index: 521273 entries, 0 to 521289\n",
      "Data columns (total 8 columns):\n",
      "order_id             521273 non-null int64\n",
      "buyer_mobile         521273 non-null int32\n",
      "product_parent_id    521273 non-null int64\n",
      "product_id           521273 non-null int64\n",
      "menu_id              521273 non-null int64\n",
      "menu_name            521273 non-null object\n",
      "total                521273 non-null int64\n",
      "crdate               521273 non-null object\n",
      "dtypes: int32(1), int64(5), object(2)\n",
      "memory usage: 33.8+ MB\n"
     ]
    }
   ],
   "source": [
    "TransactionDataDF.info()"
   ]
  },
  {
   "cell_type": "markdown",
   "metadata": {},
   "source": [
    "### Q7: 將crdate字符串類型轉換為Datetime類型"
   ]
  },
  {
   "cell_type": "code",
   "execution_count": 12,
   "metadata": {},
   "outputs": [],
   "source": [
    "TransactionDataDF['crdate'] = TransactionDataDF['crdate'].astype('datetime64[ns]')"
   ]
  },
  {
   "cell_type": "code",
   "execution_count": 13,
   "metadata": {},
   "outputs": [
    {
     "name": "stdout",
     "output_type": "stream",
     "text": [
      "<class 'pandas.core.frame.DataFrame'>\n",
      "Int64Index: 521273 entries, 0 to 521289\n",
      "Data columns (total 8 columns):\n",
      "order_id             521273 non-null int64\n",
      "buyer_mobile         521273 non-null int32\n",
      "product_parent_id    521273 non-null int64\n",
      "product_id           521273 non-null int64\n",
      "menu_id              521273 non-null int64\n",
      "menu_name            521273 non-null object\n",
      "total                521273 non-null int64\n",
      "crdate               521273 non-null datetime64[ns]\n",
      "dtypes: datetime64[ns](1), int32(1), int64(5), object(1)\n",
      "memory usage: 33.8+ MB\n"
     ]
    }
   ],
   "source": [
    "TransactionDataDF.info()"
   ]
  },
  {
   "cell_type": "markdown",
   "metadata": {},
   "source": [
    "### Q8: 計算每位消費者最後一次消費的日期距離最後交易日(2016-12-31)的天數(Recency), 例如某消費者最後一次消費日是2016-12-28 14:40:43.350772則答案為2日), 經計算後產生一個名為RecencyDF的DataFrame, 其欄位為'buyer_mobile', 'Latest_Purchase_Date'以及'Recency'"
   ]
  },
  {
   "cell_type": "code",
   "execution_count": 14,
   "metadata": {},
   "outputs": [
    {
     "data": {
      "text/html": [
       "<div>\n",
       "<style scoped>\n",
       "    .dataframe tbody tr th:only-of-type {\n",
       "        vertical-align: middle;\n",
       "    }\n",
       "\n",
       "    .dataframe tbody tr th {\n",
       "        vertical-align: top;\n",
       "    }\n",
       "\n",
       "    .dataframe thead th {\n",
       "        text-align: right;\n",
       "    }\n",
       "</style>\n",
       "<table border=\"1\" class=\"dataframe\">\n",
       "  <thead>\n",
       "    <tr style=\"text-align: right;\">\n",
       "      <th></th>\n",
       "      <th>buyer_mobile</th>\n",
       "      <th>Latest_Purchase_Date</th>\n",
       "      <th>Recency</th>\n",
       "    </tr>\n",
       "  </thead>\n",
       "  <tbody>\n",
       "    <tr>\n",
       "      <th>35</th>\n",
       "      <td>1035</td>\n",
       "      <td>2016-12-28 14:40:43.350772</td>\n",
       "      <td>2</td>\n",
       "    </tr>\n",
       "  </tbody>\n",
       "</table>\n",
       "</div>"
      ],
      "text/plain": [
       "    buyer_mobile       Latest_Purchase_Date  Recency\n",
       "35          1035 2016-12-28 14:40:43.350772        2"
      ]
     },
     "execution_count": 14,
     "metadata": {},
     "output_type": "execute_result"
    }
   ],
   "source": [
    "RecencyDF = TransactionDataDF.groupby(['buyer_mobile'])['crdate'].max().reset_index()\n",
    "RecencyDF.columns = ['buyer_mobile', 'Latest_Purchase_Date']\n",
    "RecencyDF['Recency'] = ((TransactionEndingDate - RecencyDF['Latest_Purchase_Date'])/np.timedelta64(1, 'D')).astype(int)\n",
    "RecencyDF[RecencyDF.buyer_mobile == 1035]"
   ]
  },
  {
   "cell_type": "markdown",
   "metadata": {},
   "source": [
    "### Q9: 計算每位消費者共消費次數(PurchaseTimes)"
   ]
  },
  {
   "cell_type": "code",
   "execution_count": 15,
   "metadata": {},
   "outputs": [
    {
     "data": {
      "text/html": [
       "<div>\n",
       "<style scoped>\n",
       "    .dataframe tbody tr th:only-of-type {\n",
       "        vertical-align: middle;\n",
       "    }\n",
       "\n",
       "    .dataframe tbody tr th {\n",
       "        vertical-align: top;\n",
       "    }\n",
       "\n",
       "    .dataframe thead th {\n",
       "        text-align: right;\n",
       "    }\n",
       "</style>\n",
       "<table border=\"1\" class=\"dataframe\">\n",
       "  <thead>\n",
       "    <tr style=\"text-align: right;\">\n",
       "      <th></th>\n",
       "      <th>buyer_mobile</th>\n",
       "      <th>Frequency</th>\n",
       "    </tr>\n",
       "  </thead>\n",
       "  <tbody>\n",
       "    <tr>\n",
       "      <th>35</th>\n",
       "      <td>1035</td>\n",
       "      <td>22</td>\n",
       "    </tr>\n",
       "  </tbody>\n",
       "</table>\n",
       "</div>"
      ],
      "text/plain": [
       "    buyer_mobile  Frequency\n",
       "35          1035         22"
      ]
     },
     "execution_count": 15,
     "metadata": {},
     "output_type": "execute_result"
    }
   ],
   "source": [
    "buyerFreq = TransactionDataDF[['buyer_mobile', 'order_id']].groupby(\"buyer_mobile\").count().reset_index()\n",
    "buyerFreq.columns=['buyer_mobile', 'Frequency']\n",
    "buyerFreq[buyerFreq.buyer_mobile == 1035]"
   ]
  },
  {
   "cell_type": "markdown",
   "metadata": {},
   "source": [
    "### Q10: 計算每位消費者消費間隔天數的統計值, 統計值含平均值(MeanTurnover), 標準差(StdTurnover),最小值(MinTurnover),最大值(MaxTurnover), 產生一一個名為FrequencyStatisticsDF的DataFrame, 其欄位為['buyer_mobile', 'MeanTurnover', 'StdTurnover', 'MinTurnover', 'MaxTurnover', 'PurchaseTimes']"
   ]
  },
  {
   "cell_type": "code",
   "execution_count": 16,
   "metadata": {},
   "outputs": [],
   "source": [
    "FrequencyDF = TransactionDataDF.sort_values(by=['buyer_mobile', 'crdate'])\n",
    "FrequencyDF['TurnoverPeriod'] = FrequencyDF.groupby(['buyer_mobile'])['crdate'].diff()"
   ]
  },
  {
   "cell_type": "code",
   "execution_count": 17,
   "metadata": {},
   "outputs": [
    {
     "data": {
      "text/html": [
       "<div>\n",
       "<style scoped>\n",
       "    .dataframe tbody tr th:only-of-type {\n",
       "        vertical-align: middle;\n",
       "    }\n",
       "\n",
       "    .dataframe tbody tr th {\n",
       "        vertical-align: top;\n",
       "    }\n",
       "\n",
       "    .dataframe thead th {\n",
       "        text-align: right;\n",
       "    }\n",
       "</style>\n",
       "<table border=\"1\" class=\"dataframe\">\n",
       "  <thead>\n",
       "    <tr style=\"text-align: right;\">\n",
       "      <th></th>\n",
       "      <th>order_id</th>\n",
       "      <th>buyer_mobile</th>\n",
       "      <th>product_parent_id</th>\n",
       "      <th>product_id</th>\n",
       "      <th>menu_id</th>\n",
       "      <th>menu_name</th>\n",
       "      <th>total</th>\n",
       "      <th>crdate</th>\n",
       "      <th>TurnoverPeriod</th>\n",
       "    </tr>\n",
       "  </thead>\n",
       "  <tbody>\n",
       "    <tr>\n",
       "      <th>84227</th>\n",
       "      <td>2643582</td>\n",
       "      <td>1035</td>\n",
       "      <td>33833</td>\n",
       "      <td>33834</td>\n",
       "      <td>521</td>\n",
       "      <td>居家/休閒用品</td>\n",
       "      <td>990</td>\n",
       "      <td>2016-10-02 06:47:26.853993</td>\n",
       "      <td>NaT</td>\n",
       "    </tr>\n",
       "    <tr>\n",
       "      <th>84228</th>\n",
       "      <td>2643582</td>\n",
       "      <td>1035</td>\n",
       "      <td>33833</td>\n",
       "      <td>33834</td>\n",
       "      <td>57</td>\n",
       "      <td>樂生活愛居家</td>\n",
       "      <td>990</td>\n",
       "      <td>2016-10-02 06:47:26.853993</td>\n",
       "      <td>0 days 00:00:00</td>\n",
       "    </tr>\n",
       "    <tr>\n",
       "      <th>97618</th>\n",
       "      <td>2657210</td>\n",
       "      <td>1035</td>\n",
       "      <td>31094</td>\n",
       "      <td>31095</td>\n",
       "      <td>555</td>\n",
       "      <td>保養小物</td>\n",
       "      <td>999</td>\n",
       "      <td>2016-10-05 03:12:56.954995</td>\n",
       "      <td>2 days 20:25:30.101002</td>\n",
       "    </tr>\n",
       "    <tr>\n",
       "      <th>97619</th>\n",
       "      <td>2657210</td>\n",
       "      <td>1035</td>\n",
       "      <td>31094</td>\n",
       "      <td>31095</td>\n",
       "      <td>550</td>\n",
       "      <td>愛美小物</td>\n",
       "      <td>999</td>\n",
       "      <td>2016-10-05 03:12:56.954995</td>\n",
       "      <td>0 days 00:00:00</td>\n",
       "    </tr>\n",
       "    <tr>\n",
       "      <th>8744</th>\n",
       "      <td>2678593</td>\n",
       "      <td>1035</td>\n",
       "      <td>34294</td>\n",
       "      <td>34295</td>\n",
       "      <td>627</td>\n",
       "      <td>滋潤保養面霜</td>\n",
       "      <td>999</td>\n",
       "      <td>2016-10-08 09:58:24.671149</td>\n",
       "      <td>3 days 06:45:27.716154</td>\n",
       "    </tr>\n",
       "    <tr>\n",
       "      <th>8745</th>\n",
       "      <td>2678593</td>\n",
       "      <td>1035</td>\n",
       "      <td>34294</td>\n",
       "      <td>34295</td>\n",
       "      <td>52</td>\n",
       "      <td>臉部保養</td>\n",
       "      <td>999</td>\n",
       "      <td>2016-10-08 09:58:24.671149</td>\n",
       "      <td>0 days 00:00:00</td>\n",
       "    </tr>\n",
       "    <tr>\n",
       "      <th>8815</th>\n",
       "      <td>2678621</td>\n",
       "      <td>1035</td>\n",
       "      <td>34294</td>\n",
       "      <td>34295</td>\n",
       "      <td>627</td>\n",
       "      <td>滋潤保養面霜</td>\n",
       "      <td>999</td>\n",
       "      <td>2016-10-08 10:00:42.651796</td>\n",
       "      <td>0 days 00:02:17.980647</td>\n",
       "    </tr>\n",
       "    <tr>\n",
       "      <th>8816</th>\n",
       "      <td>2678621</td>\n",
       "      <td>1035</td>\n",
       "      <td>34294</td>\n",
       "      <td>34295</td>\n",
       "      <td>52</td>\n",
       "      <td>臉部保養</td>\n",
       "      <td>999</td>\n",
       "      <td>2016-10-08 10:00:42.651796</td>\n",
       "      <td>0 days 00:00:00</td>\n",
       "    </tr>\n",
       "    <tr>\n",
       "      <th>227762</th>\n",
       "      <td>2797987</td>\n",
       "      <td>1035</td>\n",
       "      <td>33488</td>\n",
       "      <td>33489</td>\n",
       "      <td>555</td>\n",
       "      <td>保養小物</td>\n",
       "      <td>990</td>\n",
       "      <td>2016-11-03 13:29:39.744791</td>\n",
       "      <td>26 days 03:28:57.092995</td>\n",
       "    </tr>\n",
       "    <tr>\n",
       "      <th>227763</th>\n",
       "      <td>2797987</td>\n",
       "      <td>1035</td>\n",
       "      <td>33488</td>\n",
       "      <td>33489</td>\n",
       "      <td>550</td>\n",
       "      <td>愛美小物</td>\n",
       "      <td>990</td>\n",
       "      <td>2016-11-03 13:29:39.744791</td>\n",
       "      <td>0 days 00:00:00</td>\n",
       "    </tr>\n",
       "  </tbody>\n",
       "</table>\n",
       "</div>"
      ],
      "text/plain": [
       "        order_id  buyer_mobile  product_parent_id  product_id  menu_id  \\\n",
       "84227    2643582          1035              33833       33834      521   \n",
       "84228    2643582          1035              33833       33834       57   \n",
       "97618    2657210          1035              31094       31095      555   \n",
       "97619    2657210          1035              31094       31095      550   \n",
       "8744     2678593          1035              34294       34295      627   \n",
       "8745     2678593          1035              34294       34295       52   \n",
       "8815     2678621          1035              34294       34295      627   \n",
       "8816     2678621          1035              34294       34295       52   \n",
       "227762   2797987          1035              33488       33489      555   \n",
       "227763   2797987          1035              33488       33489      550   \n",
       "\n",
       "       menu_name  total                     crdate          TurnoverPeriod  \n",
       "84227    居家/休閒用品    990 2016-10-02 06:47:26.853993                     NaT  \n",
       "84228     樂生活愛居家    990 2016-10-02 06:47:26.853993         0 days 00:00:00  \n",
       "97618       保養小物    999 2016-10-05 03:12:56.954995  2 days 20:25:30.101002  \n",
       "97619       愛美小物    999 2016-10-05 03:12:56.954995         0 days 00:00:00  \n",
       "8744      滋潤保養面霜    999 2016-10-08 09:58:24.671149  3 days 06:45:27.716154  \n",
       "8745        臉部保養    999 2016-10-08 09:58:24.671149         0 days 00:00:00  \n",
       "8815      滋潤保養面霜    999 2016-10-08 10:00:42.651796  0 days 00:02:17.980647  \n",
       "8816        臉部保養    999 2016-10-08 10:00:42.651796         0 days 00:00:00  \n",
       "227762      保養小物    990 2016-11-03 13:29:39.744791 26 days 03:28:57.092995  \n",
       "227763      愛美小物    990 2016-11-03 13:29:39.744791         0 days 00:00:00  "
      ]
     },
     "execution_count": 17,
     "metadata": {},
     "output_type": "execute_result"
    }
   ],
   "source": [
    "FrequencyDF[FrequencyDF.buyer_mobile == 1035].head(10)"
   ]
  },
  {
   "cell_type": "markdown",
   "metadata": {},
   "source": [
    "### 轉換成天數"
   ]
  },
  {
   "cell_type": "code",
   "execution_count": 18,
   "metadata": {},
   "outputs": [
    {
     "data": {
      "text/html": [
       "<div>\n",
       "<style scoped>\n",
       "    .dataframe tbody tr th:only-of-type {\n",
       "        vertical-align: middle;\n",
       "    }\n",
       "\n",
       "    .dataframe tbody tr th {\n",
       "        vertical-align: top;\n",
       "    }\n",
       "\n",
       "    .dataframe thead th {\n",
       "        text-align: right;\n",
       "    }\n",
       "</style>\n",
       "<table border=\"1\" class=\"dataframe\">\n",
       "  <thead>\n",
       "    <tr style=\"text-align: right;\">\n",
       "      <th></th>\n",
       "      <th>order_id</th>\n",
       "      <th>buyer_mobile</th>\n",
       "      <th>product_parent_id</th>\n",
       "      <th>product_id</th>\n",
       "      <th>menu_id</th>\n",
       "      <th>menu_name</th>\n",
       "      <th>total</th>\n",
       "      <th>crdate</th>\n",
       "      <th>TurnoverPeriod</th>\n",
       "    </tr>\n",
       "  </thead>\n",
       "  <tbody>\n",
       "    <tr>\n",
       "      <th>97618</th>\n",
       "      <td>2657210</td>\n",
       "      <td>1035</td>\n",
       "      <td>31094</td>\n",
       "      <td>31095</td>\n",
       "      <td>555</td>\n",
       "      <td>保養小物</td>\n",
       "      <td>999</td>\n",
       "      <td>2016-10-05 03:12:56.954995</td>\n",
       "      <td>2</td>\n",
       "    </tr>\n",
       "    <tr>\n",
       "      <th>8744</th>\n",
       "      <td>2678593</td>\n",
       "      <td>1035</td>\n",
       "      <td>34294</td>\n",
       "      <td>34295</td>\n",
       "      <td>627</td>\n",
       "      <td>滋潤保養面霜</td>\n",
       "      <td>999</td>\n",
       "      <td>2016-10-08 09:58:24.671149</td>\n",
       "      <td>3</td>\n",
       "    </tr>\n",
       "    <tr>\n",
       "      <th>227762</th>\n",
       "      <td>2797987</td>\n",
       "      <td>1035</td>\n",
       "      <td>33488</td>\n",
       "      <td>33489</td>\n",
       "      <td>555</td>\n",
       "      <td>保養小物</td>\n",
       "      <td>990</td>\n",
       "      <td>2016-11-03 13:29:39.744791</td>\n",
       "      <td>26</td>\n",
       "    </tr>\n",
       "    <tr>\n",
       "      <th>281763</th>\n",
       "      <td>2837804</td>\n",
       "      <td>1035</td>\n",
       "      <td>34776</td>\n",
       "      <td>34779</td>\n",
       "      <td>627</td>\n",
       "      <td>滋潤保養面霜</td>\n",
       "      <td>1485</td>\n",
       "      <td>2016-11-13 22:19:21.823884</td>\n",
       "      <td>10</td>\n",
       "    </tr>\n",
       "    <tr>\n",
       "      <th>504038</th>\n",
       "      <td>2994553</td>\n",
       "      <td>1035</td>\n",
       "      <td>36213</td>\n",
       "      <td>36214</td>\n",
       "      <td>555</td>\n",
       "      <td>保養小物</td>\n",
       "      <td>999</td>\n",
       "      <td>2016-12-28 14:40:43.350772</td>\n",
       "      <td>44</td>\n",
       "    </tr>\n",
       "  </tbody>\n",
       "</table>\n",
       "</div>"
      ],
      "text/plain": [
       "        order_id  buyer_mobile  product_parent_id  product_id  menu_id  \\\n",
       "97618    2657210          1035              31094       31095      555   \n",
       "8744     2678593          1035              34294       34295      627   \n",
       "227762   2797987          1035              33488       33489      555   \n",
       "281763   2837804          1035              34776       34779      627   \n",
       "504038   2994553          1035              36213       36214      555   \n",
       "\n",
       "       menu_name  total                     crdate  TurnoverPeriod  \n",
       "97618       保養小物    999 2016-10-05 03:12:56.954995               2  \n",
       "8744      滋潤保養面霜    999 2016-10-08 09:58:24.671149               3  \n",
       "227762      保養小物    990 2016-11-03 13:29:39.744791              26  \n",
       "281763    滋潤保養面霜   1485 2016-11-13 22:19:21.823884              10  \n",
       "504038      保養小物    999 2016-12-28 14:40:43.350772              44  "
      ]
     },
     "execution_count": 18,
     "metadata": {},
     "output_type": "execute_result"
    }
   ],
   "source": [
    "FrequencyDF.dropna(inplace=True)\n",
    "FrequencyDF['TurnoverPeriod'] = (FrequencyDF['TurnoverPeriod']/np.timedelta64(1, 'D')).astype(int)\n",
    "FrequencyDF = FrequencyDF[FrequencyDF.TurnoverPeriod != 0]\n",
    "# buyer_mobile Examples: 1035, 1002\n",
    "FrequencyDF[FrequencyDF.buyer_mobile == 1035].head()"
   ]
  },
  {
   "cell_type": "code",
   "execution_count": 19,
   "metadata": {},
   "outputs": [],
   "source": [
    "FrequencyStatisticsDF = FrequencyDF.groupby('buyer_mobile')['TurnoverPeriod'].aggregate([np.mean, np.std, \n",
    "                                                                                         np.min, np.max])"
   ]
  },
  {
   "cell_type": "code",
   "execution_count": 20,
   "metadata": {},
   "outputs": [
    {
     "data": {
      "text/html": [
       "<div>\n",
       "<style scoped>\n",
       "    .dataframe tbody tr th:only-of-type {\n",
       "        vertical-align: middle;\n",
       "    }\n",
       "\n",
       "    .dataframe tbody tr th {\n",
       "        vertical-align: top;\n",
       "    }\n",
       "\n",
       "    .dataframe thead th {\n",
       "        text-align: right;\n",
       "    }\n",
       "</style>\n",
       "<table border=\"1\" class=\"dataframe\">\n",
       "  <thead>\n",
       "    <tr style=\"text-align: right;\">\n",
       "      <th></th>\n",
       "      <th>buyer_mobile</th>\n",
       "      <th>MeanTurnover</th>\n",
       "      <th>StdTurnover</th>\n",
       "      <th>MinTurnover</th>\n",
       "      <th>MaxTurnover</th>\n",
       "    </tr>\n",
       "  </thead>\n",
       "  <tbody>\n",
       "    <tr>\n",
       "      <th>7</th>\n",
       "      <td>1035</td>\n",
       "      <td>17.0</td>\n",
       "      <td>17.888544</td>\n",
       "      <td>2</td>\n",
       "      <td>44</td>\n",
       "    </tr>\n",
       "  </tbody>\n",
       "</table>\n",
       "</div>"
      ],
      "text/plain": [
       "   buyer_mobile  MeanTurnover  StdTurnover  MinTurnover  MaxTurnover\n",
       "7          1035          17.0    17.888544            2           44"
      ]
     },
     "execution_count": 20,
     "metadata": {},
     "output_type": "execute_result"
    }
   ],
   "source": [
    "FrequencyStatisticsDF.reset_index(inplace=True)\n",
    "FrequencyStatisticsDF.columns = ['buyer_mobile', 'MeanTurnover', 'StdTurnover', 'MinTurnover','MaxTurnover']\n",
    "FrequencyStatisticsDF[FrequencyStatisticsDF.buyer_mobile == 1035].head()"
   ]
  },
  {
   "cell_type": "markdown",
   "metadata": {},
   "source": [
    "### Q11: 計算每位消費者共消費金額(TotalSpending)"
   ]
  },
  {
   "cell_type": "code",
   "execution_count": 21,
   "metadata": {},
   "outputs": [
    {
     "data": {
      "text/plain": [
       "35    23373\n",
       "Name: TotalSpending, dtype: int64"
      ]
     },
     "execution_count": 21,
     "metadata": {},
     "output_type": "execute_result"
    }
   ],
   "source": [
    "MonetaryStatisticsDF = TransactionDataDF.groupby(['buyer_mobile'])['total'].aggregate([np.mean, np.std, np.min, \n",
    "                                                                                       np.max, np.sum]).reset_index()\n",
    "MonetaryStatisticsDF.columns = ['buyer_mobile', 'MeanSpending', 'StdSpending',\n",
    "                                'MinSpending','MaxSpending', 'TotalSpending']\n",
    "MonetaryStatisticsDF[MonetaryStatisticsDF.buyer_mobile == 1035].TotalSpending"
   ]
  },
  {
   "cell_type": "markdown",
   "metadata": {},
   "source": [
    "### Q12: 計算每位消費者消費金額統計值, 統計值含平均值(MeanSpending), 標準差(StdSpending),最小值(MinSpending),最大值(MaxSpending), 產生一一個名為MonetaryStatisticsDF的DataFrame, 其欄位為['buyer_mobile', 'MeanSpending','StdSpending', 'MinSpending', 'MaxSpending', 'TotalSpending']"
   ]
  },
  {
   "cell_type": "code",
   "execution_count": 22,
   "metadata": {},
   "outputs": [
    {
     "data": {
      "text/html": [
       "<div>\n",
       "<style scoped>\n",
       "    .dataframe tbody tr th:only-of-type {\n",
       "        vertical-align: middle;\n",
       "    }\n",
       "\n",
       "    .dataframe tbody tr th {\n",
       "        vertical-align: top;\n",
       "    }\n",
       "\n",
       "    .dataframe thead th {\n",
       "        text-align: right;\n",
       "    }\n",
       "</style>\n",
       "<table border=\"1\" class=\"dataframe\">\n",
       "  <thead>\n",
       "    <tr style=\"text-align: right;\">\n",
       "      <th></th>\n",
       "      <th>buyer_mobile</th>\n",
       "      <th>MeanSpending</th>\n",
       "      <th>StdSpending</th>\n",
       "      <th>MinSpending</th>\n",
       "      <th>MaxSpending</th>\n",
       "      <th>TotalSpending</th>\n",
       "    </tr>\n",
       "  </thead>\n",
       "  <tbody>\n",
       "    <tr>\n",
       "      <th>131731</th>\n",
       "      <td>132731</td>\n",
       "      <td>644.5</td>\n",
       "      <td>364.188977</td>\n",
       "      <td>299</td>\n",
       "      <td>990</td>\n",
       "      <td>6445</td>\n",
       "    </tr>\n",
       "    <tr>\n",
       "      <th>131732</th>\n",
       "      <td>132732</td>\n",
       "      <td>1280.0</td>\n",
       "      <td>0.000000</td>\n",
       "      <td>1280</td>\n",
       "      <td>1280</td>\n",
       "      <td>5120</td>\n",
       "    </tr>\n",
       "    <tr>\n",
       "      <th>131733</th>\n",
       "      <td>132733</td>\n",
       "      <td>1287.0</td>\n",
       "      <td>271.122666</td>\n",
       "      <td>990</td>\n",
       "      <td>1485</td>\n",
       "      <td>6435</td>\n",
       "    </tr>\n",
       "    <tr>\n",
       "      <th>131734</th>\n",
       "      <td>132734</td>\n",
       "      <td>999.0</td>\n",
       "      <td>0.000000</td>\n",
       "      <td>999</td>\n",
       "      <td>999</td>\n",
       "      <td>1998</td>\n",
       "    </tr>\n",
       "    <tr>\n",
       "      <th>131735</th>\n",
       "      <td>132735</td>\n",
       "      <td>990.0</td>\n",
       "      <td>0.000000</td>\n",
       "      <td>990</td>\n",
       "      <td>990</td>\n",
       "      <td>4950</td>\n",
       "    </tr>\n",
       "  </tbody>\n",
       "</table>\n",
       "</div>"
      ],
      "text/plain": [
       "        buyer_mobile  MeanSpending  StdSpending  MinSpending  MaxSpending  \\\n",
       "131731        132731         644.5   364.188977          299          990   \n",
       "131732        132732        1280.0     0.000000         1280         1280   \n",
       "131733        132733        1287.0   271.122666          990         1485   \n",
       "131734        132734         999.0     0.000000          999          999   \n",
       "131735        132735         990.0     0.000000          990          990   \n",
       "\n",
       "        TotalSpending  \n",
       "131731           6445  \n",
       "131732           5120  \n",
       "131733           6435  \n",
       "131734           1998  \n",
       "131735           4950  "
      ]
     },
     "execution_count": 22,
     "metadata": {},
     "output_type": "execute_result"
    }
   ],
   "source": [
    "MonetaryStatisticsDF.tail()"
   ]
  },
  {
   "cell_type": "markdown",
   "metadata": {},
   "source": [
    "### Q13: 使用merge函數將RecencyDF, FrequencyStatisticsDF, MonetaryStatisticsDF整合成為一個DataFrame並命名為RFMsDF"
   ]
  },
  {
   "cell_type": "code",
   "execution_count": 23,
   "metadata": {},
   "outputs": [],
   "source": [
    "RFMsDF = pd.merge(RecencyDF, buyerFreq, on='buyer_mobile', how='outer')\n",
    "RFMsDF = pd.merge(RFMsDF, FrequencyStatisticsDF, on='buyer_mobile', how='outer')\n",
    "RFMsDF = pd.merge(RFMsDF, MonetaryStatisticsDF, on='buyer_mobile', how='outer')"
   ]
  },
  {
   "cell_type": "code",
   "execution_count": 24,
   "metadata": {},
   "outputs": [
    {
     "data": {
      "text/html": [
       "<div>\n",
       "<style scoped>\n",
       "    .dataframe tbody tr th:only-of-type {\n",
       "        vertical-align: middle;\n",
       "    }\n",
       "\n",
       "    .dataframe tbody tr th {\n",
       "        vertical-align: top;\n",
       "    }\n",
       "\n",
       "    .dataframe thead th {\n",
       "        text-align: right;\n",
       "    }\n",
       "</style>\n",
       "<table border=\"1\" class=\"dataframe\">\n",
       "  <thead>\n",
       "    <tr style=\"text-align: right;\">\n",
       "      <th></th>\n",
       "      <th>35</th>\n",
       "    </tr>\n",
       "  </thead>\n",
       "  <tbody>\n",
       "    <tr>\n",
       "      <th>buyer_mobile</th>\n",
       "      <td>1035</td>\n",
       "    </tr>\n",
       "    <tr>\n",
       "      <th>Latest_Purchase_Date</th>\n",
       "      <td>2016-12-28 14:40:43.350772</td>\n",
       "    </tr>\n",
       "    <tr>\n",
       "      <th>Recency</th>\n",
       "      <td>2</td>\n",
       "    </tr>\n",
       "    <tr>\n",
       "      <th>Frequency</th>\n",
       "      <td>22</td>\n",
       "    </tr>\n",
       "    <tr>\n",
       "      <th>MeanTurnover</th>\n",
       "      <td>17</td>\n",
       "    </tr>\n",
       "    <tr>\n",
       "      <th>StdTurnover</th>\n",
       "      <td>17.8885</td>\n",
       "    </tr>\n",
       "    <tr>\n",
       "      <th>MinTurnover</th>\n",
       "      <td>2</td>\n",
       "    </tr>\n",
       "    <tr>\n",
       "      <th>MaxTurnover</th>\n",
       "      <td>44</td>\n",
       "    </tr>\n",
       "    <tr>\n",
       "      <th>MeanSpending</th>\n",
       "      <td>1062.41</td>\n",
       "    </tr>\n",
       "    <tr>\n",
       "      <th>StdSpending</th>\n",
       "      <td>171.922</td>\n",
       "    </tr>\n",
       "    <tr>\n",
       "      <th>MinSpending</th>\n",
       "      <td>990</td>\n",
       "    </tr>\n",
       "    <tr>\n",
       "      <th>MaxSpending</th>\n",
       "      <td>1485</td>\n",
       "    </tr>\n",
       "    <tr>\n",
       "      <th>TotalSpending</th>\n",
       "      <td>23373</td>\n",
       "    </tr>\n",
       "  </tbody>\n",
       "</table>\n",
       "</div>"
      ],
      "text/plain": [
       "                                              35\n",
       "buyer_mobile                                1035\n",
       "Latest_Purchase_Date  2016-12-28 14:40:43.350772\n",
       "Recency                                        2\n",
       "Frequency                                     22\n",
       "MeanTurnover                                  17\n",
       "StdTurnover                              17.8885\n",
       "MinTurnover                                    2\n",
       "MaxTurnover                                   44\n",
       "MeanSpending                             1062.41\n",
       "StdSpending                              171.922\n",
       "MinSpending                                  990\n",
       "MaxSpending                                 1485\n",
       "TotalSpending                              23373"
      ]
     },
     "execution_count": 24,
     "metadata": {},
     "output_type": "execute_result"
    }
   ],
   "source": [
    "RFMsDF[RFMsDF.buyer_mobile == 1035].T"
   ]
  },
  {
   "cell_type": "markdown",
   "metadata": {},
   "source": [
    "### Q14: RFMsDF中若有缺值,請用適當的值填充"
   ]
  },
  {
   "cell_type": "code",
   "execution_count": 25,
   "metadata": {},
   "outputs": [
    {
     "data": {
      "text/plain": [
       "buyer_mobile                 0\n",
       "Latest_Purchase_Date         0\n",
       "Recency                      0\n",
       "Frequency                    0\n",
       "MeanTurnover            111509\n",
       "StdTurnover             126802\n",
       "MinTurnover             111509\n",
       "MaxTurnover             111509\n",
       "MeanSpending                 0\n",
       "StdSpending                  0\n",
       "MinSpending                  0\n",
       "MaxSpending                  0\n",
       "TotalSpending                0\n",
       "dtype: int64"
      ]
     },
     "execution_count": 25,
     "metadata": {},
     "output_type": "execute_result"
    }
   ],
   "source": [
    "RFMsDF.isnull().sum()"
   ]
  },
  {
   "cell_type": "code",
   "execution_count": 26,
   "metadata": {},
   "outputs": [],
   "source": [
    "RFMsDF.MeanTurnover.fillna(-9999, inplace=True)\n",
    "RFMsDF.MinTurnover.fillna(-9999, inplace=True) # Purchase only once\n",
    "RFMsDF.MaxTurnover.fillna(-9999, inplace=True)\n",
    "RFMsDF.StdTurnover.fillna(9999, inplace=True)"
   ]
  },
  {
   "cell_type": "code",
   "execution_count": 27,
   "metadata": {},
   "outputs": [
    {
     "data": {
      "text/plain": [
       "buyer_mobile            0\n",
       "Latest_Purchase_Date    0\n",
       "Recency                 0\n",
       "Frequency               0\n",
       "MeanTurnover            0\n",
       "StdTurnover             0\n",
       "MinTurnover             0\n",
       "MaxTurnover             0\n",
       "MeanSpending            0\n",
       "StdSpending             0\n",
       "MinSpending             0\n",
       "MaxSpending             0\n",
       "TotalSpending           0\n",
       "dtype: int64"
      ]
     },
     "execution_count": 27,
     "metadata": {},
     "output_type": "execute_result"
    }
   ],
   "source": [
    "RFMsDF.isnull().sum()"
   ]
  },
  {
   "cell_type": "markdown",
   "metadata": {},
   "source": [
    "### Q15: 將RFMsDF儲存為一壓縮檔並命名為RFMsDF.csv.zip"
   ]
  },
  {
   "cell_type": "code",
   "execution_count": 28,
   "metadata": {},
   "outputs": [],
   "source": [
    "RFMsDF.to_csv('./RFMsDF.csv.zip', index=False, encoding = 'utf-8', compression=\"gzip\")"
   ]
  }
 ],
 "metadata": {
  "kernelspec": {
   "display_name": "Python 3",
   "language": "python",
   "name": "python3"
  },
  "language_info": {
   "codemirror_mode": {
    "name": "ipython",
    "version": 3
   },
   "file_extension": ".py",
   "mimetype": "text/x-python",
   "name": "python",
   "nbconvert_exporter": "python",
   "pygments_lexer": "ipython3",
   "version": "3.7.1"
  }
 },
 "nbformat": 4,
 "nbformat_minor": 2
}
